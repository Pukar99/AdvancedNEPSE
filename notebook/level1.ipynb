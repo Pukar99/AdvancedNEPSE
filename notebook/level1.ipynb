{
 "cells": [
  {
   "cell_type": "code",
   "execution_count": 1,
   "id": "348a2254",
   "metadata": {},
   "outputs": [],
   "source": [
    "#importing the necessaries libraries"
   ]
  },
  {
   "cell_type": "code",
   "execution_count": 2,
   "id": "b9a9981a",
   "metadata": {},
   "outputs": [],
   "source": [
    "import pandas as pd\n",
    "import numpy as np\n",
    "import matplotlib.pyplot as plt\n",
    "import seaborn as sns\n"
   ]
  },
  {
   "cell_type": "code",
   "execution_count": 6,
   "id": "7ed420e6",
   "metadata": {},
   "outputs": [
    {
     "name": "stdout",
     "output_type": "stream",
     "text": [
      "            SN     open     high      low    close  change  pct_change  \\\n",
      "date                                                                     \n",
      "2022-07-22   1  2046.62  2046.62  2013.75  2017.46  -27.26       -1.33   \n",
      "2022-07-24   2  2027.80  2078.51  2027.80  2078.51   61.05        3.03   \n",
      "2022-07-25   3  2081.98  2134.62  2081.98  2132.96   54.45        2.62   \n",
      "2022-07-26   4  2134.14  2141.35  2085.93  2088.16  -44.80       -2.10   \n",
      "2022-07-27   5  2089.01  2111.99  2066.08  2111.99   23.83        1.14   \n",
      "\n",
      "                turnover  \n",
      "date                      \n",
      "2022-07-22  1.443433e+09  \n",
      "2022-07-24  2.730937e+09  \n",
      "2022-07-25  4.106819e+09  \n",
      "2022-07-26  3.704998e+09  \n",
      "2022-07-27  3.161455e+09  \n"
     ]
    }
   ],
   "source": [
    "import pandas as pd\n",
    "\n",
    "# Function to clean and preprocess the data\n",
    "def clean_nepse_data(file_path):\n",
    "    # Read the dataset\n",
    "    df = pd.read_csv(file_path)\n",
    "\n",
    "    # Convert date column to datetime format\n",
    "    df['date'] = pd.to_datetime(df['date'], format='%d/%m/%Y')\n",
    "\n",
    "    # List of columns to convert from string to float\n",
    "    columns_to_convert = ['open', 'high', 'low', 'close', 'change', 'turnover']\n",
    "\n",
    "    # Loop through each column and convert it\n",
    "    for col in columns_to_convert:\n",
    "        # Check if the column is of type object (string)\n",
    "        if df[col].dtype == 'object':\n",
    "            df[col] = df[col].str.replace(',', '').astype(float)\n",
    "        # If already float or int, no action needed\n",
    "        else:\n",
    "            pass\n",
    "\n",
    "    # Optional: Set the date as the index of the dataframe\n",
    "    df.set_index('date', inplace=True)\n",
    "\n",
    "    return df\n",
    "\n",
    "# Usage\n",
    "file_path = 'NepseDataHistorical1997_2024.csv'  # Update with the path to your data file\n",
    "cleaned_df = clean_nepse_data(file_path)\n",
    "\n",
    "# Display the first few rows of the cleaned dataframe\n",
    "print(cleaned_df.head())\n"
   ]
  },
  {
   "cell_type": "code",
   "execution_count": null,
   "id": "40b6fbad",
   "metadata": {},
   "outputs": [],
   "source": []
  }
 ],
 "metadata": {
  "kernelspec": {
   "display_name": "Python 3 (ipykernel)",
   "language": "python",
   "name": "python3"
  },
  "language_info": {
   "codemirror_mode": {
    "name": "ipython",
    "version": 3
   },
   "file_extension": ".py",
   "mimetype": "text/x-python",
   "name": "python",
   "nbconvert_exporter": "python",
   "pygments_lexer": "ipython3",
   "version": "3.11.5"
  }
 },
 "nbformat": 4,
 "nbformat_minor": 5
}
