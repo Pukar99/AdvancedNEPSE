{
 "cells": [
  {
   "cell_type": "code",
   "execution_count": 7,
   "id": "bf8768aa-79e2-4931-8b94-cb0d12612dd5",
   "metadata": {},
   "outputs": [],
   "source": [
    "import pandas as pd\n",
    "import numpy as np\n",
    "import matplotlib.pyplot as plt\n",
    "import seaborn as sns\n",
    "import mplfinance as mpf"
   ]
  },
  {
   "cell_type": "code",
   "execution_count": 8,
   "id": "f097d90b-0e94-44c5-850a-7dabfbd16364",
   "metadata": {},
   "outputs": [
    {
     "name": "stdout",
     "output_type": "stream",
     "text": [
      "        SN      open      high       low     close  change  pct_change  \\\n",
      "0        1  2,046.62  2,046.62  2,013.75  2,017.46  -27.26       -1.33   \n",
      "1        2  2,027.80  2,078.51  2,027.80  2,078.51   61.05        3.03   \n",
      "2        3  2,081.98  2,134.62  2,081.98  2,132.96   54.45        2.62   \n",
      "3        4  2,134.14  2,141.35  2,085.93  2,088.16  -44.80       -2.10   \n",
      "4        5  2,089.01  2,111.99  2,066.08  2,111.99   23.83        1.14   \n",
      "...    ...       ...       ...       ...       ...     ...         ...   \n",
      "6083  6084    172.66    172.66    172.66    172.66    0.00        0.00   \n",
      "6084  6085    172.68    173.03    173.03    173.03    0.00        0.00   \n",
      "6085  6086    173.03    173.03    173.03    173.03    0.00        0.00   \n",
      "6086  6087    173.25    173.25    173.25    173.25    0.00        0.00   \n",
      "6087  6088    173.26    173.26    173.26    173.26    0.00        0.00   \n",
      "\n",
      "              turnover        date  \n",
      "0     1,443,432,770.47  22/07/2022  \n",
      "1     2,730,937,196.52  24/07/2022  \n",
      "2     4,106,818,941.36  25/07/2022  \n",
      "3     3,704,998,398.24  26/07/2022  \n",
      "4     3,161,455,141.99  27/07/2022  \n",
      "...                ...         ...  \n",
      "6083                 0  24/07/1997  \n",
      "6084                 0  23/07/1997  \n",
      "6085                 0  22/07/1997  \n",
      "6086                 0  21/07/1997  \n",
      "6087                 0  20/07/1997  \n",
      "\n",
      "[6088 rows x 9 columns]\n"
     ]
    }
   ],
   "source": [
    "\n",
    "# Read the file NepseDataHistorical1997_2024.csv\n",
    "df1 = pd.read_csv('NepseDataHistorical1997_2024.csv')\n",
    "\n",
    "# Print the dataframe\n",
    "print(df1)"
   ]
  },
  {
   "cell_type": "code",
   "execution_count": 9,
   "id": "cd9d9963-9936-49de-b2b9-5437e95fe6c9",
   "metadata": {},
   "outputs": [
    {
     "data": {
      "text/html": [
       "<div>\n",
       "<style scoped>\n",
       "    .dataframe tbody tr th:only-of-type {\n",
       "        vertical-align: middle;\n",
       "    }\n",
       "\n",
       "    .dataframe tbody tr th {\n",
       "        vertical-align: top;\n",
       "    }\n",
       "\n",
       "    .dataframe thead th {\n",
       "        text-align: right;\n",
       "    }\n",
       "</style>\n",
       "<table border=\"1\" class=\"dataframe\">\n",
       "  <thead>\n",
       "    <tr style=\"text-align: right;\">\n",
       "      <th></th>\n",
       "      <th>open</th>\n",
       "      <th>high</th>\n",
       "      <th>low</th>\n",
       "      <th>close</th>\n",
       "      <th>change</th>\n",
       "      <th>pct_change</th>\n",
       "      <th>turnover</th>\n",
       "      <th>date</th>\n",
       "    </tr>\n",
       "  </thead>\n",
       "  <tbody>\n",
       "    <tr>\n",
       "      <th>0</th>\n",
       "      <td>2046.62</td>\n",
       "      <td>2046.62</td>\n",
       "      <td>2013.75</td>\n",
       "      <td>2017.46</td>\n",
       "      <td>-27.26</td>\n",
       "      <td>-1.33</td>\n",
       "      <td>1.443433e+09</td>\n",
       "      <td>2022-07-22</td>\n",
       "    </tr>\n",
       "    <tr>\n",
       "      <th>1</th>\n",
       "      <td>2027.80</td>\n",
       "      <td>2078.51</td>\n",
       "      <td>2027.80</td>\n",
       "      <td>2078.51</td>\n",
       "      <td>61.05</td>\n",
       "      <td>3.03</td>\n",
       "      <td>2.730937e+09</td>\n",
       "      <td>2022-07-24</td>\n",
       "    </tr>\n",
       "    <tr>\n",
       "      <th>2</th>\n",
       "      <td>2081.98</td>\n",
       "      <td>2134.62</td>\n",
       "      <td>2081.98</td>\n",
       "      <td>2132.96</td>\n",
       "      <td>54.45</td>\n",
       "      <td>2.62</td>\n",
       "      <td>4.106819e+09</td>\n",
       "      <td>2022-07-25</td>\n",
       "    </tr>\n",
       "    <tr>\n",
       "      <th>3</th>\n",
       "      <td>2134.14</td>\n",
       "      <td>2141.35</td>\n",
       "      <td>2085.93</td>\n",
       "      <td>2088.16</td>\n",
       "      <td>-44.80</td>\n",
       "      <td>-2.10</td>\n",
       "      <td>3.704998e+09</td>\n",
       "      <td>2022-07-26</td>\n",
       "    </tr>\n",
       "    <tr>\n",
       "      <th>4</th>\n",
       "      <td>2089.01</td>\n",
       "      <td>2111.99</td>\n",
       "      <td>2066.08</td>\n",
       "      <td>2111.99</td>\n",
       "      <td>23.83</td>\n",
       "      <td>1.14</td>\n",
       "      <td>3.161455e+09</td>\n",
       "      <td>2022-07-27</td>\n",
       "    </tr>\n",
       "  </tbody>\n",
       "</table>\n",
       "</div>"
      ],
      "text/plain": [
       "      open     high      low    close  change  pct_change      turnover  \\\n",
       "0  2046.62  2046.62  2013.75  2017.46  -27.26       -1.33  1.443433e+09   \n",
       "1  2027.80  2078.51  2027.80  2078.51   61.05        3.03  2.730937e+09   \n",
       "2  2081.98  2134.62  2081.98  2132.96   54.45        2.62  4.106819e+09   \n",
       "3  2134.14  2141.35  2085.93  2088.16  -44.80       -2.10  3.704998e+09   \n",
       "4  2089.01  2111.99  2066.08  2111.99   23.83        1.14  3.161455e+09   \n",
       "\n",
       "        date  \n",
       "0 2022-07-22  \n",
       "1 2022-07-24  \n",
       "2 2022-07-25  \n",
       "3 2022-07-26  \n",
       "4 2022-07-27  "
      ]
     },
     "execution_count": 9,
     "metadata": {},
     "output_type": "execute_result"
    }
   ],
   "source": [
    "# Convert 'open', 'high', 'low', 'close', 'turnover' to numeric values\n",
    "numeric_cols = ['open', 'high', 'low', 'close', 'turnover']\n",
    "for col in numeric_cols:\n",
    "    df1[col] = pd.to_numeric(df1[col].str.replace(',', ''), errors='coerce')\n",
    "\n",
    "# Convert 'date' to datetime\n",
    "df1['date'] = pd.to_datetime(df1['date'], format='%d/%m/%Y', errors='coerce')\n",
    "\n",
    "# Drop the 'SN' column if it's just a serial number and not needed\n",
    "df1.drop('SN', axis=1, inplace=True)\n",
    "\n",
    "# Display the updated DataFrame\n",
    "df1.head()"
   ]
  },
  {
   "cell_type": "code",
   "execution_count": 13,
   "id": "7e8a813d-6a4d-45ad-ab54-a04fb980a4df",
   "metadata": {},
   "outputs": [
    {
     "ename": "SyntaxError",
     "evalue": "incomplete input (4262650366.py, line 14)",
     "output_type": "error",
     "traceback": [
      "\u001b[1;36m  Cell \u001b[1;32mIn[13], line 14\u001b[1;36m\u001b[0m\n\u001b[1;33m    #          mav=(3,6,9))  # Moving averages\u001b[0m\n\u001b[1;37m                                              ^\u001b[0m\n\u001b[1;31mSyntaxError\u001b[0m\u001b[1;31m:\u001b[0m incomplete input\n"
     ]
    }
   ],
   "source": [
    "\n",
    "\n",
    "# Load your data\n",
    "data_path = 'NepseDataHistorical1997_2024.csv'\n",
    "data = pd.read_csv(data_path, parse_dates=['date'], index_col='date')\n",
    "\n",
    "# Convert columns to float if they are not already\n",
    "numeric_cols = ['open', 'high', 'low', 'close']\n",
    "data[numeric_cols] = data[numeric_cols].replace(',', '', regex=True).astype(float)\n",
    "\n",
    "# Create a candlestick chart without the volume\n",
    "mpf.plot(data[['open', 'high', 'low', 'close']], type='candle', style='charles',\n",
    "         title='Nepse Stock Market Candlestick Chart',\n",
    "         ylabel='Price (NPR)',\n",
    "         figratio=(12, 8),\n",
    "#          mav=(3,6,9))  # Moving averages\n"
   ]
  },
  {
   "cell_type": "code",
   "execution_count": 6,
   "id": "53b70ce4-5882-4607-b1ca-7c05358b752e",
   "metadata": {
    "slideshow": {
     "slide_type": ""
    },
    "tags": []
   },
   "outputs": [
    {
     "name": "stdout",
     "output_type": "stream",
     "text": [
      "Requirement already satisfied: mplfinance in c:\\users\\hp\\anaconda3\\lib\\site-packages (0.12.10b0)\n",
      "Requirement already satisfied: matplotlib in c:\\users\\hp\\anaconda3\\lib\\site-packages (from mplfinance) (3.7.2)\n",
      "Requirement already satisfied: pandas in c:\\users\\hp\\anaconda3\\lib\\site-packages (from mplfinance) (2.0.3)\n",
      "Requirement already satisfied: contourpy>=1.0.1 in c:\\users\\hp\\anaconda3\\lib\\site-packages (from matplotlib->mplfinance) (1.0.5)\n",
      "Requirement already satisfied: cycler>=0.10 in c:\\users\\hp\\anaconda3\\lib\\site-packages (from matplotlib->mplfinance) (0.11.0)\n",
      "Requirement already satisfied: fonttools>=4.22.0 in c:\\users\\hp\\anaconda3\\lib\\site-packages (from matplotlib->mplfinance) (4.25.0)\n",
      "Requirement already satisfied: kiwisolver>=1.0.1 in c:\\users\\hp\\anaconda3\\lib\\site-packages (from matplotlib->mplfinance) (1.4.4)\n",
      "Requirement already satisfied: numpy>=1.20 in c:\\users\\hp\\anaconda3\\lib\\site-packages (from matplotlib->mplfinance) (1.24.3)\n",
      "Requirement already satisfied: packaging>=20.0 in c:\\users\\hp\\anaconda3\\lib\\site-packages (from matplotlib->mplfinance) (23.1)\n",
      "Requirement already satisfied: pillow>=6.2.0 in c:\\users\\hp\\anaconda3\\lib\\site-packages (from matplotlib->mplfinance) (9.4.0)\n",
      "Requirement already satisfied: pyparsing<3.1,>=2.3.1 in c:\\users\\hp\\anaconda3\\lib\\site-packages (from matplotlib->mplfinance) (3.0.9)\n",
      "Requirement already satisfied: python-dateutil>=2.7 in c:\\users\\hp\\anaconda3\\lib\\site-packages (from matplotlib->mplfinance) (2.8.2)\n",
      "Requirement already satisfied: pytz>=2020.1 in c:\\users\\hp\\anaconda3\\lib\\site-packages (from pandas->mplfinance) (2023.3.post1)\n",
      "Requirement already satisfied: tzdata>=2022.1 in c:\\users\\hp\\anaconda3\\lib\\site-packages (from pandas->mplfinance) (2023.3)\n",
      "Requirement already satisfied: six>=1.5 in c:\\users\\hp\\anaconda3\\lib\\site-packages (from python-dateutil>=2.7->matplotlib->mplfinance) (1.16.0)\n"
     ]
    }
   ],
   "source": [
    "!pip install mplfinance"
   ]
  },
  {
   "cell_type": "code",
   "execution_count": null,
   "id": "8964821b-2419-4f48-9844-55ec8c093298",
   "metadata": {},
   "outputs": [],
   "source": []
  }
 ],
 "metadata": {
  "kernelspec": {
   "display_name": "Python 3 (ipykernel)",
   "language": "python",
   "name": "python3"
  },
  "language_info": {
   "codemirror_mode": {
    "name": "ipython",
    "version": 3
   },
   "file_extension": ".py",
   "mimetype": "text/x-python",
   "name": "python",
   "nbconvert_exporter": "python",
   "pygments_lexer": "ipython3",
   "version": "3.11.5"
  }
 },
 "nbformat": 4,
 "nbformat_minor": 5
}
