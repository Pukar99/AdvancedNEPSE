{
 "cells": [
  {
   "cell_type": "code",
   "execution_count": 1,
   "id": "53a802d9-5295-4f8a-8758-a7b9be8eb514",
   "metadata": {},
   "outputs": [],
   "source": [
    "import pandas as pd\n",
    "import numpy as np\n",
    "import matplotlib.pyplot as plt\n",
    "import seaborn as sns\n"
   ]
  },
  {
   "cell_type": "code",
   "execution_count": 37,
   "id": "0aeac88c-9f91-4c58-86dd-64c2084353b1",
   "metadata": {},
   "outputs": [
    {
     "name": "stdout",
     "output_type": "stream",
     "text": [
      "        SN      open      high       low     close  change  pct_change  \\\n",
      "0        1  2,046.62  2,046.62  2,013.75  2,017.46  -27.26       -1.33   \n",
      "1        2  2,027.80  2,078.51  2,027.80  2,078.51   61.05        3.03   \n",
      "2        3  2,081.98  2,134.62  2,081.98  2,132.96   54.45        2.62   \n",
      "3        4  2,134.14  2,141.35  2,085.93  2,088.16  -44.80       -2.10   \n",
      "4        5  2,089.01  2,111.99  2,066.08  2,111.99   23.83        1.14   \n",
      "...    ...       ...       ...       ...       ...     ...         ...   \n",
      "6083  6084    172.66    172.66    172.66    172.66    0.00        0.00   \n",
      "6084  6085    172.68    173.03    173.03    173.03    0.00        0.00   \n",
      "6085  6086    173.03    173.03    173.03    173.03    0.00        0.00   \n",
      "6086  6087    173.25    173.25    173.25    173.25    0.00        0.00   \n",
      "6087  6088    173.26    173.26    173.26    173.26    0.00        0.00   \n",
      "\n",
      "              turnover        date  \n",
      "0     1,443,432,770.47  22/07/2022  \n",
      "1     2,730,937,196.52  24/07/2022  \n",
      "2     4,106,818,941.36  25/07/2022  \n",
      "3     3,704,998,398.24  26/07/2022  \n",
      "4     3,161,455,141.99  27/07/2022  \n",
      "...                ...         ...  \n",
      "6083                 0  24/07/1997  \n",
      "6084                 0  23/07/1997  \n",
      "6085                 0  22/07/1997  \n",
      "6086                 0  21/07/1997  \n",
      "6087                 0  20/07/1997  \n",
      "\n",
      "[6088 rows x 9 columns]\n"
     ]
    }
   ],
   "source": [
    "\n",
    "# Read the file NepseDataHistorical1997_2024.csv\n",
    "df1 = pd.read_csv('NepseDataHistorical1997_2024.csv')\n",
    "\n",
    "# Print the dataframe\n",
    "print(df1)"
   ]
  },
  {
   "cell_type": "code",
   "execution_count": 38,
   "id": "284076b4-88d6-4e7f-9ed1-1aecd0a4c8bd",
   "metadata": {},
   "outputs": [
    {
     "name": "stdout",
     "output_type": "stream",
     "text": [
      "<class 'pandas.core.frame.DataFrame'>\n",
      "RangeIndex: 6088 entries, 0 to 6087\n",
      "Data columns (total 9 columns):\n",
      " #   Column      Non-Null Count  Dtype  \n",
      "---  ------      --------------  -----  \n",
      " 0   SN          6088 non-null   int64  \n",
      " 1   open        6088 non-null   object \n",
      " 2   high        6088 non-null   object \n",
      " 3   low         6088 non-null   object \n",
      " 4   close       6088 non-null   object \n",
      " 5   change      6088 non-null   float64\n",
      " 6   pct_change  6088 non-null   float64\n",
      " 7   turnover    6088 non-null   object \n",
      " 8   date        6088 non-null   object \n",
      "dtypes: float64(2), int64(1), object(6)\n",
      "memory usage: 428.2+ KB\n"
     ]
    }
   ],
   "source": [
    "df1.info()"
   ]
  },
  {
   "cell_type": "code",
   "execution_count": 42,
   "id": "0762dc99-25f8-4be1-88c2-4898e98e7850",
   "metadata": {},
   "outputs": [
    {
     "data": {
      "text/html": [
       "<div>\n",
       "<style scoped>\n",
       "    .dataframe tbody tr th:only-of-type {\n",
       "        vertical-align: middle;\n",
       "    }\n",
       "\n",
       "    .dataframe tbody tr th {\n",
       "        vertical-align: top;\n",
       "    }\n",
       "\n",
       "    .dataframe thead th {\n",
       "        text-align: right;\n",
       "    }\n",
       "</style>\n",
       "<table border=\"1\" class=\"dataframe\">\n",
       "  <thead>\n",
       "    <tr style=\"text-align: right;\">\n",
       "      <th></th>\n",
       "      <th>open</th>\n",
       "      <th>high</th>\n",
       "      <th>low</th>\n",
       "      <th>close</th>\n",
       "      <th>change</th>\n",
       "      <th>pct_change</th>\n",
       "      <th>turnover</th>\n",
       "      <th>date</th>\n",
       "    </tr>\n",
       "  </thead>\n",
       "  <tbody>\n",
       "    <tr>\n",
       "      <th>0</th>\n",
       "      <td>2046.62</td>\n",
       "      <td>2046.62</td>\n",
       "      <td>2013.75</td>\n",
       "      <td>2017.46</td>\n",
       "      <td>-27.26</td>\n",
       "      <td>-1.33</td>\n",
       "      <td>1.443433e+09</td>\n",
       "      <td>2022-07-22</td>\n",
       "    </tr>\n",
       "    <tr>\n",
       "      <th>1</th>\n",
       "      <td>2027.80</td>\n",
       "      <td>2078.51</td>\n",
       "      <td>2027.80</td>\n",
       "      <td>2078.51</td>\n",
       "      <td>61.05</td>\n",
       "      <td>3.03</td>\n",
       "      <td>2.730937e+09</td>\n",
       "      <td>2022-07-24</td>\n",
       "    </tr>\n",
       "    <tr>\n",
       "      <th>2</th>\n",
       "      <td>2081.98</td>\n",
       "      <td>2134.62</td>\n",
       "      <td>2081.98</td>\n",
       "      <td>2132.96</td>\n",
       "      <td>54.45</td>\n",
       "      <td>2.62</td>\n",
       "      <td>4.106819e+09</td>\n",
       "      <td>2022-07-25</td>\n",
       "    </tr>\n",
       "    <tr>\n",
       "      <th>3</th>\n",
       "      <td>2134.14</td>\n",
       "      <td>2141.35</td>\n",
       "      <td>2085.93</td>\n",
       "      <td>2088.16</td>\n",
       "      <td>-44.80</td>\n",
       "      <td>-2.10</td>\n",
       "      <td>3.704998e+09</td>\n",
       "      <td>2022-07-26</td>\n",
       "    </tr>\n",
       "    <tr>\n",
       "      <th>4</th>\n",
       "      <td>2089.01</td>\n",
       "      <td>2111.99</td>\n",
       "      <td>2066.08</td>\n",
       "      <td>2111.99</td>\n",
       "      <td>23.83</td>\n",
       "      <td>1.14</td>\n",
       "      <td>3.161455e+09</td>\n",
       "      <td>2022-07-27</td>\n",
       "    </tr>\n",
       "  </tbody>\n",
       "</table>\n",
       "</div>"
      ],
      "text/plain": [
       "      open     high      low    close  change  pct_change      turnover  \\\n",
       "0  2046.62  2046.62  2013.75  2017.46  -27.26       -1.33  1.443433e+09   \n",
       "1  2027.80  2078.51  2027.80  2078.51   61.05        3.03  2.730937e+09   \n",
       "2  2081.98  2134.62  2081.98  2132.96   54.45        2.62  4.106819e+09   \n",
       "3  2134.14  2141.35  2085.93  2088.16  -44.80       -2.10  3.704998e+09   \n",
       "4  2089.01  2111.99  2066.08  2111.99   23.83        1.14  3.161455e+09   \n",
       "\n",
       "        date  \n",
       "0 2022-07-22  \n",
       "1 2022-07-24  \n",
       "2 2022-07-25  \n",
       "3 2022-07-26  \n",
       "4 2022-07-27  "
      ]
     },
     "execution_count": 42,
     "metadata": {},
     "output_type": "execute_result"
    }
   ],
   "source": [
    "# Convert 'open', 'high', 'low', 'close', 'turnover' to numeric values\n",
    "numeric_cols = ['open', 'high', 'low', 'close', 'turnover']\n",
    "for col in numeric_cols:\n",
    "    df1[col] = pd.to_numeric(df1[col].str.replace(',', ''), errors='coerce')\n",
    "\n",
    "# Convert 'date' to datetime\n",
    "df1['date'] = pd.to_datetime(df1['date'], format='%d/%m/%Y', errors='coerce')\n",
    "\n",
    "# Drop the 'SN' column if it's just a serial number and not needed\n",
    "df1.drop('SN', axis=1, inplace=True)\n",
    "\n",
    "# Display the updated DataFrame\n",
    "df1.head()"
   ]
  },
  {
   "cell_type": "code",
   "execution_count": 43,
   "id": "d244c6d3-b7de-4389-a505-116a528a3be6",
   "metadata": {},
   "outputs": [
    {
     "name": "stdout",
     "output_type": "stream",
     "text": [
      "<class 'pandas.core.frame.DataFrame'>\n",
      "RangeIndex: 6088 entries, 0 to 6087\n",
      "Data columns (total 8 columns):\n",
      " #   Column      Non-Null Count  Dtype         \n",
      "---  ------      --------------  -----         \n",
      " 0   open        6088 non-null   float64       \n",
      " 1   high        6088 non-null   float64       \n",
      " 2   low         6088 non-null   float64       \n",
      " 3   close       6088 non-null   float64       \n",
      " 4   change      6088 non-null   float64       \n",
      " 5   pct_change  6088 non-null   float64       \n",
      " 6   turnover    6088 non-null   float64       \n",
      " 7   date        6088 non-null   datetime64[ns]\n",
      "dtypes: datetime64[ns](1), float64(7)\n",
      "memory usage: 380.6 KB\n"
     ]
    }
   ],
   "source": [
    "df1.info()"
   ]
  },
  {
   "cell_type": "code",
   "execution_count": 45,
   "id": "25d20e6e-0807-4967-8fc1-7aa1acbaac72",
   "metadata": {},
   "outputs": [],
   "source": [
    "# Check for any missing values\n",
    "missing_values = df1.isnull().sum()"
   ]
  },
  {
   "cell_type": "code",
   "execution_count": 47,
   "id": "e9f47493-16a5-43b5-9d41-4f66fa0fc18c",
   "metadata": {},
   "outputs": [
    {
     "data": {
      "text/plain": [
       "open          0\n",
       "high          0\n",
       "low           0\n",
       "close         0\n",
       "change        0\n",
       "pct_change    0\n",
       "turnover      0\n",
       "date          0\n",
       "dtype: int64"
      ]
     },
     "execution_count": 47,
     "metadata": {},
     "output_type": "execute_result"
    }
   ],
   "source": [
    "# Display the updated data and any missing values\n",
    "df2 = df1.head()\n",
    "missing_values"
   ]
  },
  {
   "cell_type": "code",
   "execution_count": null,
   "id": "349609a1-d967-4855-931f-19cb2957ac19",
   "metadata": {},
   "outputs": [],
   "source": []
  }
 ],
 "metadata": {
  "kernelspec": {
   "display_name": "Python 3 (ipykernel)",
   "language": "python",
   "name": "python3"
  },
  "language_info": {
   "codemirror_mode": {
    "name": "ipython",
    "version": 3
   },
   "file_extension": ".py",
   "mimetype": "text/x-python",
   "name": "python",
   "nbconvert_exporter": "python",
   "pygments_lexer": "ipython3",
   "version": "3.10.0"
  }
 },
 "nbformat": 4,
 "nbformat_minor": 5
}
